{
 "cells": [
  {
   "cell_type": "code",
   "execution_count": 1,
   "metadata": {},
   "outputs": [],
   "source": [
    "import numpy as np"
   ]
  },
  {
   "cell_type": "code",
   "execution_count": 56,
   "metadata": {},
   "outputs": [],
   "source": [
    "def forward_rnn(x, U, W, V):\n",
    "    h_dim = 4\n",
    "    h_layer = np.zeros((h_dim, h_dim))\n",
    "    print(x.shape[1])\n",
    "    for i in range(x.shape[1]):\n",
    "        print(x[:,i])\n",
    "        U_T = np.transpose(U)\n",
    "        x_T = np.transpose(x[:,i])\n",
    "        W_T = np.transpose(W)\n",
    "        h_layer_T = np.transpose(h_layer)\n",
    "        print(U_T.shape)\n",
    "        print(x_T.shape)\n",
    "        print(W_T.shape)\n",
    "        print(h_layer_T.shape)\n",
    "        h_layer = np.tanh(U_T @ x_T + W_T @ h_layer_T)\n",
    "        y = V @ h_layer\n",
    "        #print(y)\n",
    "    #print(h_layer)\n",
    "    #for i in range(x.shape[1]):\n"
   ]
  },
  {
   "cell_type": "code",
   "execution_count": 60,
   "metadata": {},
   "outputs": [
    {
     "name": "stdout",
     "output_type": "stream",
     "text": [
      "[[0.37454012 0.95071431 0.73199394 0.59865848]\n",
      " [0.15601864 0.15599452 0.05808361 0.86617615]\n",
      " [0.60111501 0.70807258 0.02058449 0.96990985]\n",
      " [0.83244264 0.21233911 0.18182497 0.18340451]]\n",
      "[[0.30424224 0.52475643 0.43194502 0.29122914]\n",
      " [0.61185289 0.13949386 0.29214465 0.36636184]\n",
      " [0.45606998 0.78517596 0.19967378 0.51423444]\n",
      " [0.59241457 0.04645041 0.60754485 0.17052412]]\n",
      "[[0.06505159 0.94888554 0.96563203 0.80839735]\n",
      " [0.30461377 0.09767211 0.68423303 0.44015249]]\n",
      "3\n",
      "[[1 2 3 4]]\n",
      "(4, 4)\n",
      "(4, 1)\n",
      "(4, 4)\n",
      "(4, 4)\n",
      "[[2 3 4 4]]\n",
      "(4, 4)\n",
      "(4, 1)\n",
      "(4, 4)\n",
      "(4, 4)\n",
      "[[3 4 5 4]]\n",
      "(4, 4)\n",
      "(4, 1)\n",
      "(4, 4)\n",
      "(4, 4)\n"
     ]
    }
   ],
   "source": [
    "\n",
    "np.random.seed(42)\n",
    "x = np.array([[[1, 2, 3, 4 ], [2, 3, 4, 4], [3, 4, 5, 4]]])\n",
    "U = np.random.rand(4, 4)\n",
    "print(U)\n",
    "W = np.random.rand(4, x.shape[2])\n",
    "print(W)\n",
    "V = np.random.rand(2, 4)\n",
    "print(V)\n",
    "forward_rnn(x, U, W, V)"
   ]
  },
  {
   "cell_type": "code",
   "execution_count": null,
   "metadata": {},
   "outputs": [],
   "source": []
  }
 ],
 "metadata": {
  "kernelspec": {
   "display_name": "nlp_lecture_practice",
   "language": "python",
   "name": "python3"
  },
  "language_info": {
   "codemirror_mode": {
    "name": "ipython",
    "version": 3
   },
   "file_extension": ".py",
   "mimetype": "text/x-python",
   "name": "python",
   "nbconvert_exporter": "python",
   "pygments_lexer": "ipython3",
   "version": "3.10.0"
  }
 },
 "nbformat": 4,
 "nbformat_minor": 2
}
