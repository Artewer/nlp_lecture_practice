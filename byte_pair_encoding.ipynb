{
 "cells": [
  {
   "cell_type": "code",
   "execution_count": 53,
   "metadata": {},
   "outputs": [],
   "source": [
    "# random words\n",
    "corpus = ['low', 'lowest', 'own', 'owner', 'widow', 'widower']\n",
    "occurencies = [5, 2, 6, 2, 5, 2]\n",
    "#take each unique character as a token\n",
    "\n",
    "vocabulary = set(''.join(corpus))"
   ]
  },
  {
   "cell_type": "code",
   "execution_count": 54,
   "metadata": {},
   "outputs": [
    {
     "data": {
      "text/plain": [
       "{'d', 'e', 'i', 'l', 'n', 'o', 'r', 's', 't', 'w'}"
      ]
     },
     "execution_count": 54,
     "metadata": {},
     "output_type": "execute_result"
    }
   ],
   "source": [
    "vocabulary"
   ]
  },
  {
   "cell_type": "code",
   "execution_count": 63,
   "metadata": {},
   "outputs": [
    {
     "name": "stdout",
     "output_type": "stream",
     "text": [
      "owe\n",
      "own\n",
      "er\n",
      "ower\n",
      "dow\n",
      "do\n",
      "dowe\n",
      "dower\n",
      "id\n",
      "idow\n"
     ]
    }
   ],
   "source": [
    "k = 10\n",
    "# for t in range(k):\n",
    "\n",
    "for i in range(k):\n",
    "    parts_occ = {}\n",
    "    for a_token in vocabulary:\n",
    "        for b_token in vocabulary:\n",
    "            ab_token = a_token + b_token\n",
    "            for word in corpus:\n",
    "                if ab_token in word:\n",
    "                    parts_occ[ab_token] = parts_occ.get(ab_token, 0) + 1\n",
    "    #get next max if token is in vocabulary\n",
    "    while True:\n",
    "        new_token = max(parts_occ, key=parts_occ.get)\n",
    "        if new_token in vocabulary:\n",
    "            del parts_occ[new_token]\n",
    "        else:\n",
    "            break\n",
    "    print(new_token)\n",
    "    vocabulary.add(new_token)\n",
    "        "
   ]
  },
  {
   "cell_type": "code",
   "execution_count": 64,
   "metadata": {},
   "outputs": [
    {
     "data": {
      "text/plain": [
       "{'d',\n",
       " 'do',\n",
       " 'dow',\n",
       " 'dowe',\n",
       " 'dower',\n",
       " 'e',\n",
       " 'er',\n",
       " 'i',\n",
       " 'id',\n",
       " 'idow',\n",
       " 'l',\n",
       " 'n',\n",
       " 'o',\n",
       " 'ow',\n",
       " 'owe',\n",
       " 'ower',\n",
       " 'own',\n",
       " 'r',\n",
       " 's',\n",
       " 't',\n",
       " 'w'}"
      ]
     },
     "execution_count": 64,
     "metadata": {},
     "output_type": "execute_result"
    }
   ],
   "source": [
    "vocabulary"
   ]
  },
  {
   "cell_type": "code",
   "execution_count": null,
   "metadata": {},
   "outputs": [],
   "source": []
  }
 ],
 "metadata": {
  "kernelspec": {
   "display_name": "nlp_lecture_practice",
   "language": "python",
   "name": "python3"
  },
  "language_info": {
   "codemirror_mode": {
    "name": "ipython",
    "version": 3
   },
   "file_extension": ".py",
   "mimetype": "text/x-python",
   "name": "python",
   "nbconvert_exporter": "python",
   "pygments_lexer": "ipython3",
   "version": "3.10.0"
  }
 },
 "nbformat": 4,
 "nbformat_minor": 2
}
