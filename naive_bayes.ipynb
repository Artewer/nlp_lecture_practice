{
 "cells": [
  {
   "cell_type": "code",
   "execution_count": 1,
   "metadata": {},
   "outputs": [],
   "source": [
    "#Naive Bayes classifier\n",
    "def concatinate(vocabulary):\n",
    "    return [word for sentence in vocabulary for word in sentence]"
   ]
  },
  {
   "cell_type": "code",
   "execution_count": 29,
   "metadata": {},
   "outputs": [],
   "source": [
    "# target maximize likelihood p(class|word) = p(word|class) * p(class) / p(word)\n",
    "# there is kinda no training just calculating the probabilities, if you have two classes it is like this\n",
    "vocabulary = [(\"I\", \"am\", \"happy\", \"because\", \"I\", \"am\", \"learning\"), (\"I\", \"am\", \"sad\", \"because\", \"I\", \"am\", \"not\", \"learning\")]\n",
    "vocabulary_classes = [True, False] # classified as happy or sad \n",
    "p_word = 1/len(concatinate(vocabulary)) # occurencies of happy\n",
    "p_word_true = 1/len(vocabulary[0]) # occurencies of happy in True\n",
    "p_word_false = 0 # occurencies of happy in False\n",
    "p_false = 1/len(vocabulary_classes) # occurencies of happy\n",
    "p_true = 1/len(vocabulary_classes) # occurencies of True\n",
    "\n",
    "p_true_word = p_word_true * p_true\n",
    "\n"
   ]
  },
  {
   "cell_type": "code",
   "execution_count": 32,
   "metadata": {},
   "outputs": [
    {
     "data": {
      "text/plain": [
       "0.07142857142857142"
      ]
     },
     "execution_count": 32,
     "metadata": {},
     "output_type": "execute_result"
    }
   ],
   "source": [
    "p_true_word"
   ]
  },
  {
   "cell_type": "code",
   "execution_count": null,
   "metadata": {},
   "outputs": [],
   "source": []
  }
 ],
 "metadata": {
  "kernelspec": {
   "display_name": "nlp_lecture_practice",
   "language": "python",
   "name": "python3"
  },
  "language_info": {
   "codemirror_mode": {
    "name": "ipython",
    "version": 3
   },
   "file_extension": ".py",
   "mimetype": "text/x-python",
   "name": "python",
   "nbconvert_exporter": "python",
   "pygments_lexer": "ipython3",
   "version": "3.10.0"
  }
 },
 "nbformat": 4,
 "nbformat_minor": 2
}
