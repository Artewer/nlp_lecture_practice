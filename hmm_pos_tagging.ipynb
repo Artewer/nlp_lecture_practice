{
 "cells": [
  {
   "cell_type": "code",
   "execution_count": 4,
   "metadata": {},
   "outputs": [],
   "source": [
    "#combine viterbi algorithm with markov assumption\n",
    "import numpy as np"
   ]
  },
  {
   "cell_type": "code",
   "execution_count": 14,
   "metadata": {},
   "outputs": [],
   "source": [
    "words = ['Janet', 'will', 'back', 'the', 'bill']\n",
    "states = ['s', 'NNP', 'MD', 'VB', 'DT', 'NN']\n",
    "possible_states = ['NNP', 'MD', 'VB', 'JJ', 'NN', 'RB', 'DT']"
   ]
  },
  {
   "cell_type": "code",
   "execution_count": 30,
   "metadata": {},
   "outputs": [],
   "source": [
    "np.random.seed(42)\n",
    "transition_matrix = np.random.rand(len(possible_states)+ 1, len(possible_states))\n",
    "tag_probability = np.random.rand(len(words), len(possible_states))\n",
    "#tag transition matrix with possible states "
   ]
  },
  {
   "cell_type": "code",
   "execution_count": 32,
   "metadata": {},
   "outputs": [
    {
     "data": {
      "text/plain": [
       "array([[0.37454012, 0.95071431, 0.73199394, 0.59865848, 0.15601864,\n",
       "        0.15599452, 0.05808361],\n",
       "       [0.86617615, 0.60111501, 0.70807258, 0.02058449, 0.96990985,\n",
       "        0.83244264, 0.21233911],\n",
       "       [0.18182497, 0.18340451, 0.30424224, 0.52475643, 0.43194502,\n",
       "        0.29122914, 0.61185289],\n",
       "       [0.13949386, 0.29214465, 0.36636184, 0.45606998, 0.78517596,\n",
       "        0.19967378, 0.51423444],\n",
       "       [0.59241457, 0.04645041, 0.60754485, 0.17052412, 0.06505159,\n",
       "        0.94888554, 0.96563203],\n",
       "       [0.80839735, 0.30461377, 0.09767211, 0.68423303, 0.44015249,\n",
       "        0.12203823, 0.49517691],\n",
       "       [0.03438852, 0.9093204 , 0.25877998, 0.66252228, 0.31171108,\n",
       "        0.52006802, 0.54671028],\n",
       "       [0.18485446, 0.96958463, 0.77513282, 0.93949894, 0.89482735,\n",
       "        0.59789998, 0.92187424]])"
      ]
     },
     "execution_count": 32,
     "metadata": {},
     "output_type": "execute_result"
    }
   ],
   "source": [
    "transition_matrix"
   ]
  },
  {
   "cell_type": "code",
   "execution_count": 38,
   "metadata": {},
   "outputs": [],
   "source": [
    "max_res = transition_matrix[0]\n",
    "for i, state in enumerate(states):\n",
    "    res = max_res * tag_probability[i]\n",
    "    max_res = np.max(res)\n",
    "\n",
    "\n",
    "#transition_matrix[1] * tag_probability[0]"
   ]
  },
  {
   "cell_type": "code",
   "execution_count": 39,
   "metadata": {},
   "outputs": [
    {
     "data": {
      "text/plain": [
       "0.12002318064454089"
      ]
     },
     "execution_count": 39,
     "metadata": {},
     "output_type": "execute_result"
    }
   ],
   "source": [
    "max_res"
   ]
  },
  {
   "cell_type": "code",
   "execution_count": null,
   "metadata": {},
   "outputs": [],
   "source": []
  }
 ],
 "metadata": {
  "kernelspec": {
   "display_name": "nlp_lecture_practice",
   "language": "python",
   "name": "python3"
  },
  "language_info": {
   "codemirror_mode": {
    "name": "ipython",
    "version": 3
   },
   "file_extension": ".py",
   "mimetype": "text/x-python",
   "name": "python",
   "nbconvert_exporter": "python",
   "pygments_lexer": "ipython3",
   "version": "3.10.0"
  }
 },
 "nbformat": 4,
 "nbformat_minor": 2
}
